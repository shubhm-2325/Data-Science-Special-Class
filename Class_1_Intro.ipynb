{
 "cells": [
  {
   "cell_type": "code",
   "execution_count": null,
   "id": "e5144bc5",
   "metadata": {},
   "outputs": [],
   "source": [
    "# Cell - A place where you write python code\n",
    "\n",
    "# 2 Types of cell\n",
    "\n",
    "- Cooding cell - Where you can only write python code\n",
    "- markdown cell - Where you can write anything "
   ]
  },
  {
   "cell_type": "code",
   "execution_count": 5,
   "id": "cb143606",
   "metadata": {},
   "outputs": [
    {
     "name": "stdout",
     "output_type": "stream",
     "text": [
      "30\n"
     ]
    }
   ],
   "source": [
    "a = 10\n",
    "b = 20\n",
    "\n",
    "print(a+b)"
   ]
  },
  {
   "cell_type": "markdown",
   "id": "ff9643ab",
   "metadata": {},
   "source": [
    "# Heading 1\n",
    "## Heading 2\n",
    "### Heading 3\n",
    "#### Heading 4\n",
    "##### Heading 5\n",
    "\n",
    "1. Point 1\n",
    "2. point 2\n",
    "3. point 3\n",
    "\n",
    "\n",
    "- point 1\n",
    "- point2\n",
    "- point 3\n",
    "* point 4\n",
    "* point 5"
   ]
  },
  {
   "cell_type": "markdown",
   "id": "7942a6ab",
   "metadata": {},
   "source": [
    "# What is an OS?\n",
    "\n",
    "\n",
    "- An OS is a system software that manages the computer Hard ware\n",
    "\n",
    "\n",
    "- Windows\n",
    "- mac\n",
    "- linux"
   ]
  },
  {
   "cell_type": "markdown",
   "id": "afb01749",
   "metadata": {},
   "source": [
    "# What is an programing language?\n",
    "\n",
    "\n",
    "- A set of instruction that is used to get our task"
   ]
  },
  {
   "cell_type": "code",
   "execution_count": null,
   "id": "75794906",
   "metadata": {},
   "outputs": [],
   "source": [
    "# 2 Main types of programing languages?\n",
    "\n",
    "- HLL ( High level language )\n",
    "- LLL ( low level languages )"
   ]
  },
  {
   "cell_type": "code",
   "execution_count": null,
   "id": "1f0288ca",
   "metadata": {},
   "outputs": [],
   "source": [
    "# HLL \n",
    "\n",
    "- Human friendly\n",
    "-  eg JAVA, C++ , c , python\n",
    "\n",
    "\n",
    "# LLL\n",
    "- system friendly\n",
    "- Assembly languages"
   ]
  },
  {
   "cell_type": "code",
   "execution_count": 9,
   "id": "7cc3a90a",
   "metadata": {},
   "outputs": [
    {
     "name": "stdout",
     "output_type": "stream",
     "text": [
      "30\n"
     ]
    }
   ],
   "source": [
    "a = 10\n",
    "b = 20\n",
    "\n",
    "print(a + b)"
   ]
  },
  {
   "cell_type": "code",
   "execution_count": null,
   "id": "2f01f9c5",
   "metadata": {},
   "outputs": [],
   "source": [
    "\n",
    "\n",
    "a  ----> 97 ---->\n",
    "\n",
    "\n",
    "2     97     1\n",
    "2     48     0   \n",
    "2     24     0\n",
    "2     12     0 \n",
    "2      6     0\n",
    "2      3     1\n",
    "       1\n",
    "    \n",
    "    \n",
    "=  ----> 61 ---> 111101\n",
    "\n",
    "\n",
    "2       61        1 \n",
    "2       30        0\n",
    "2       15        1\n",
    "2        7        1\n",
    "2        3        1\n",
    "         1\n",
    "    \n",
    "    \n",
    "10 ---> 1010\n",
    "\n",
    "\n"
   ]
  },
  {
   "cell_type": "code",
   "execution_count": null,
   "id": "53526119",
   "metadata": {},
   "outputs": [],
   "source": [
    "# compiler - C , JAVA , C++\n",
    "\n",
    "a = 10\n",
    "b = 20\n",
    "\n",
    "print(a + b)"
   ]
  },
  {
   "cell_type": "code",
   "execution_count": 1,
   "id": "e0ec0c3d",
   "metadata": {},
   "outputs": [
    {
     "name": "stdout",
     "output_type": "stream",
     "text": [
      "10\n",
      "20\n"
     ]
    },
    {
     "ename": "NameError",
     "evalue": "name 'c' is not defined",
     "output_type": "error",
     "traceback": [
      "\u001b[1;31m---------------------------------------------------------------------------\u001b[0m",
      "\u001b[1;31mNameError\u001b[0m                                 Traceback (most recent call last)",
      "Input \u001b[1;32mIn [1]\u001b[0m, in \u001b[0;36m<cell line: 9>\u001b[1;34m()\u001b[0m\n\u001b[0;32m      6\u001b[0m \u001b[38;5;28mprint\u001b[39m(a)\n\u001b[0;32m      7\u001b[0m \u001b[38;5;28mprint\u001b[39m(b)\n\u001b[1;32m----> 9\u001b[0m \u001b[38;5;28mprint\u001b[39m(\u001b[43mc\u001b[49m)\n\u001b[0;32m     11\u001b[0m \u001b[38;5;28mprint\u001b[39m(a \u001b[38;5;241m+\u001b[39m b)\n",
      "\u001b[1;31mNameError\u001b[0m: name 'c' is not defined"
     ]
    }
   ],
   "source": [
    "# Interpretor - python\n",
    "\n",
    "a = 10\n",
    "b = 20\n",
    "\n",
    "print(a)\n",
    "print(b)\n",
    "\n",
    "print(c)\n",
    "\n",
    "print(a + b)"
   ]
  },
  {
   "cell_type": "code",
   "execution_count": null,
   "id": "9ce90e58",
   "metadata": {},
   "outputs": [],
   "source": []
  }
 ],
 "metadata": {
  "kernelspec": {
   "display_name": "Python 3 (ipykernel)",
   "language": "python",
   "name": "python3"
  },
  "language_info": {
   "codemirror_mode": {
    "name": "ipython",
    "version": 3
   },
   "file_extension": ".py",
   "mimetype": "text/x-python",
   "name": "python",
   "nbconvert_exporter": "python",
   "pygments_lexer": "ipython3",
   "version": "3.9.13"
  }
 },
 "nbformat": 4,
 "nbformat_minor": 5
}
